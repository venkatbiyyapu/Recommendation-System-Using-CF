{
 "cells": [
  {
   "cell_type": "code",
   "execution_count": 0,
   "metadata": {
    "application/vnd.databricks.v1+cell": {
     "cellMetadata": {
      "byteLimit": 2048000,
      "rowLimit": 10000
     },
     "inputWidgets": {},
     "nuid": "80d99dca-7fbb-4cda-815a-a5181f633f09",
     "showTitle": false,
     "title": ""
    }
   },
   "outputs": [],
   "source": [
    "from pyspark.sql import SparkSession\n",
    "from pyspark.sql.functions import lit\n",
    "import pyspark\n",
    "spark = SparkSession.builder.appName(\"TF-TDF\").getOrCreate()"
   ]
  },
  {
   "cell_type": "code",
   "execution_count": 0,
   "metadata": {
    "application/vnd.databricks.v1+cell": {
     "cellMetadata": {
      "byteLimit": 2048000,
      "rowLimit": 10000
     },
     "inputWidgets": {},
     "nuid": "f6bc1b17-9b22-40ea-8c0a-83e60764e84a",
     "showTitle": false,
     "title": ""
    }
   },
   "outputs": [],
   "source": [
    "ratings_rdd= spark.sparkContext.textFile(\"/FileStore/tables/ratings.dat\").map(lambda x: x.split(\"::\")).map(lambda x: (int(x[0]),int(x[1]),int(x[2])))"
   ]
  },
  {
   "cell_type": "code",
   "execution_count": 0,
   "metadata": {
    "application/vnd.databricks.v1+cell": {
     "cellMetadata": {
      "byteLimit": 2048000,
      "rowLimit": 10000
     },
     "inputWidgets": {},
     "nuid": "83002dd3-16cd-4175-bed7-203fa996de68",
     "showTitle": false,
     "title": ""
    }
   },
   "outputs": [],
   "source": [
    "train_ratings_rdd, test_ratings_rdd=ratings_rdd.randomSplit(weights=[0.7, 0.3], seed=10)"
   ]
  },
  {
   "cell_type": "code",
   "execution_count": 0,
   "metadata": {
    "application/vnd.databricks.v1+cell": {
     "cellMetadata": {
      "byteLimit": 2048000,
      "rowLimit": 10000
     },
     "inputWidgets": {},
     "nuid": "96cd5170-a354-4c1f-a6c7-a72f33a3a787",
     "showTitle": false,
     "title": ""
    }
   },
   "outputs": [],
   "source": [
    "from pyspark.mllib.recommendation import ALS\n",
    "rank = 10\n",
    "numIterations = 10\n",
    "model = ALS.train(train_ratings_rdd, rank, numIterations)"
   ]
  },
  {
   "cell_type": "code",
   "execution_count": 0,
   "metadata": {
    "application/vnd.databricks.v1+cell": {
     "cellMetadata": {
      "byteLimit": 2048000,
      "rowLimit": 10000
     },
     "inputWidgets": {},
     "nuid": "933665f8-56f4-4d0d-bf30-6084857268b2",
     "showTitle": false,
     "title": ""
    }
   },
   "outputs": [],
   "source": [
    "test_data_without_ratings= test_ratings_rdd.map(lambda x : (x[0],x[1]))\n",
    "predictions = model.predictAll(test_data_without_ratings).map(lambda x: ((x[0], x[1]), x[2]))\n",
    "orginalAndPreds = test_ratings_rdd.map(lambda x: ((x[0], x[1]), x[2])).join(predictions)"
   ]
  },
  {
   "cell_type": "code",
   "execution_count": 0,
   "metadata": {
    "application/vnd.databricks.v1+cell": {
     "cellMetadata": {
      "byteLimit": 2048000,
      "rowLimit": 10000
     },
     "inputWidgets": {},
     "nuid": "5e19a8ab-c3a8-4679-8a92-5d87ab2c5006",
     "showTitle": false,
     "title": ""
    }
   },
   "outputs": [],
   "source": [
    "MSE = orginalAndPreds.map(lambda x: (x[1][0] - x[1][1])**2).mean()"
   ]
  },
  {
   "cell_type": "code",
   "execution_count": 0,
   "metadata": {
    "application/vnd.databricks.v1+cell": {
     "cellMetadata": {
      "byteLimit": 2048000,
      "rowLimit": 10000
     },
     "inputWidgets": {},
     "nuid": "fc33408f-4f17-4106-afb2-a399105801bf",
     "showTitle": false,
     "title": ""
    }
   },
   "outputs": [
    {
     "output_type": "stream",
     "name": "stdout",
     "output_type": "stream",
     "text": [
      "Mean Squared Error of ratings.dat file is 0.8279526729277772\nAccuracy of ratings.dat is 82.79526729277772%\n"
     ]
    }
   ],
   "source": [
    "print(f\"Mean Squared Error of ratings.dat file is {MSE}\")\n",
    "print(f\"Accuracy of ratings.dat is {MSE*100}%\")"
   ]
  }
 ],
 "metadata": {
  "application/vnd.databricks.v1+notebook": {
   "dashboards": [],
   "language": "python",
   "notebookMetadata": {
    "pythonIndentUnit": 4
   },
   "notebookName": "HomeWork4Q2",
   "widgets": {}
  }
 },
 "nbformat": 4,
 "nbformat_minor": 0
}
